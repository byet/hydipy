{
 "cells": [
  {
   "cell_type": "code",
   "execution_count": 1,
   "metadata": {},
   "outputs": [],
   "source": [
    "from hydipy.Discrete import DiscreteNode\n",
    "from hydipy.DynamicDiscretization import Hybrid_BN, DynamicDiscretization\n",
    "from hydipy.ParameterLearning import EMLearner\n",
    "import pandas as pd\n",
    "import numpy as np"
   ]
  },
  {
   "attachments": {},
   "cell_type": "markdown",
   "metadata": {},
   "source": [
    "# EM Learning"
   ]
  },
  {
   "cell_type": "code",
   "execution_count": 2,
   "metadata": {},
   "outputs": [],
   "source": [
    "train_data = pd.DataFrame(\n",
    "            {\"a\": [\"a1\", \"a2\", \"a1\"], \"b\": [\"b1\", pd.NA, \"b2\"], \"c\": [\"c2\", \"c2\", pd.NA]},\n",
    "        )\n",
    "a = DiscreteNode(id=\"a\", values=[[0.7], [0.3]], parents=[], states=[\"a1\", \"a2\"])\n",
    "b = DiscreteNode(id=\"b\", values=[[0.4], [0.6]], parents=[], states=[\"b1\", \"b2\"])\n",
    "c = DiscreteNode(\n",
    "    id=\"c\",\n",
    "    values=[[0.1, 0.6, 0.3, 0.25], [0.9, 0.4, 0.7, 0.75]],\n",
    "    parents=[\"a\", \"b\"],\n",
    "    states=[\"c1\", \"c2\"],\n",
    ")\n",
    "model = Hybrid_BN([a, b, c])"
   ]
  },
  {
   "cell_type": "code",
   "execution_count": 3,
   "metadata": {},
   "outputs": [],
   "source": [
    "eml = EMLearner(model, train_data)\n",
    "cpts = eml.em(50)\n",
    "bn = Hybrid_BN(cpts.values())\n"
   ]
  },
  {
   "cell_type": "code",
   "execution_count": 4,
   "metadata": {},
   "outputs": [
    {
     "data": {
      "text/plain": [
       "array([[0.00980392, 0.53715279, 0.01923077, 0.01923077],\n",
       "       [0.99019608, 0.46284721, 0.98076923, 0.98076923]])"
      ]
     },
     "execution_count": 4,
     "metadata": {},
     "output_type": "execute_result"
    }
   ],
   "source": [
    "cpts['c'].values"
   ]
  },
  {
   "attachments": {},
   "cell_type": "markdown",
   "metadata": {},
   "source": [
    "## Latent Variable\n",
    "\n",
    "`b` is a latent variable in this example with no observations available."
   ]
  },
  {
   "cell_type": "code",
   "execution_count": 5,
   "metadata": {},
   "outputs": [],
   "source": [
    "train_data_latent = pd.DataFrame(\n",
    "            {\"a\": [\"a1\", \"a2\", \"a1\"], \"b\": [pd.NA, pd.NA, pd.NA], \"c\": [\"c2\", \"c2\", pd.NA]},\n",
    "        )\n",
    "eml2 = EMLearner(model, train_data_latent)\n",
    "cpts = eml2.em(50)\n",
    "bn = Hybrid_BN(cpts.values())\n"
   ]
  },
  {
   "cell_type": "code",
   "execution_count": 6,
   "metadata": {},
   "outputs": [
    {
     "data": {
      "text/plain": [
       "array([[0.53415948],\n",
       "       [0.46584052]])"
      ]
     },
     "execution_count": 6,
     "metadata": {},
     "output_type": "execute_result"
    }
   ],
   "source": [
    "cpts['b'].values\n"
   ]
  },
  {
   "cell_type": "code",
   "execution_count": 7,
   "metadata": {},
   "outputs": [
    {
     "data": {
      "text/plain": [
       "array([[0.0180374 , 0.02059327, 0.01803086, 0.02060176],\n",
       "       [0.9819626 , 0.97940673, 0.98196914, 0.97939824]])"
      ]
     },
     "execution_count": 7,
     "metadata": {},
     "output_type": "execute_result"
    }
   ],
   "source": [
    "cpts['c'].values"
   ]
  }
 ],
 "metadata": {
  "kernelspec": {
   "display_name": "hydipy-agrum",
   "language": "python",
   "name": "python3"
  },
  "language_info": {
   "codemirror_mode": {
    "name": "ipython",
    "version": 3
   },
   "file_extension": ".py",
   "mimetype": "text/x-python",
   "name": "python",
   "nbconvert_exporter": "python",
   "pygments_lexer": "ipython3",
   "version": "3.9.16"
  },
  "orig_nbformat": 4,
  "vscode": {
   "interpreter": {
    "hash": "285d41343ce9cda7d5e97c909156023cc6fd7d5fe13631b53093ed3a59ce995f"
   }
  }
 },
 "nbformat": 4,
 "nbformat_minor": 2
}
