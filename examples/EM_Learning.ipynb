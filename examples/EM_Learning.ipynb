{
 "cells": [
  {
   "cell_type": "code",
   "execution_count": 15,
   "metadata": {},
   "outputs": [],
   "source": [
    "from hydipy.Discrete import DiscreteNode\n",
    "from hydipy.DynamicDiscretization import Hybrid_BN, DynamicDiscretization\n",
    "from hydipy.ParameterLearning import EMLearner\n",
    "import pandas as pd\n",
    "import numpy as np\n"
   ]
  },
  {
   "attachments": {},
   "cell_type": "markdown",
   "metadata": {},
   "source": [
    "# EM Learning"
   ]
  },
  {
   "cell_type": "code",
   "execution_count": 16,
   "metadata": {},
   "outputs": [],
   "source": [
    "train_data = pd.DataFrame(\n",
    "    {\"a\": [\"a1\", \"a2\", \"a1\"], \"b\": [\"b1\", pd.NA, \"b2\"], \"c\": [\"c2\", \"c2\", pd.NA]},\n",
    ")\n",
    "a = DiscreteNode(id=\"a\", values=[[0.7], [0.3]], parents=[], states=[\"a1\", \"a2\"])\n",
    "b = DiscreteNode(id=\"b\", values=[[0.4], [0.6]], parents=[], states=[\"b1\", \"b2\"])\n",
    "c = DiscreteNode(\n",
    "    id=\"c\",\n",
    "    values=[[0.1, 0.6, 0.3, 0.25], [0.9, 0.4, 0.7, 0.75]],\n",
    "    parents=[\"a\", \"b\"],\n",
    "    states=[\"c1\", \"c2\"],\n",
    ")\n",
    "model = Hybrid_BN([a, b, c])"
   ]
  },
  {
   "cell_type": "code",
   "execution_count": 17,
   "metadata": {},
   "outputs": [
    {
     "name": "stdout",
     "output_type": "stream",
     "text": [
      "Iteration: 7 ; Log-likelihood: -3.32512\r"
     ]
    }
   ],
   "source": [
    "eml = EMLearner(model, train_data)\n",
    "cpts = eml.em()\n",
    "bn = Hybrid_BN(cpts.values())\n"
   ]
  },
  {
   "cell_type": "code",
   "execution_count": 18,
   "metadata": {},
   "outputs": [
    {
     "data": {
      "text/plain": [
       "array([[0.00980392, 0.58705602, 0.01923871, 0.01922284],\n",
       "       [0.99019608, 0.41294398, 0.98076129, 0.98077716]])"
      ]
     },
     "execution_count": 18,
     "metadata": {},
     "output_type": "execute_result"
    }
   ],
   "source": [
    "cpts[\"c\"].values\n"
   ]
  },
  {
   "attachments": {},
   "cell_type": "markdown",
   "metadata": {},
   "source": [
    "## Latent Variable\n",
    "\n",
    "`b` is a latent variable in this example with no observations available."
   ]
  },
  {
   "cell_type": "code",
   "execution_count": 19,
   "metadata": {},
   "outputs": [
    {
     "name": "stdout",
     "output_type": "stream",
     "text": [
      "Iteration: 10 ; Log-likelihood: -1.94985\r"
     ]
    }
   ],
   "source": [
    "train_data_latent = pd.DataFrame(\n",
    "    {\"a\": [\"a1\", \"a2\", \"a1\"], \"b\": [pd.NA, pd.NA, pd.NA], \"c\": [\"c2\", \"c2\", pd.NA]},\n",
    ")\n",
    "eml2 = EMLearner(model, train_data_latent)\n",
    "cpts = eml2.em()\n",
    "bn = Hybrid_BN(cpts.values())"
   ]
  },
  {
   "cell_type": "code",
   "execution_count": 20,
   "metadata": {},
   "outputs": [
    {
     "data": {
      "text/plain": [
       "array([[0.52679287],\n",
       "       [0.47320713]])"
      ]
     },
     "execution_count": 20,
     "metadata": {},
     "output_type": "execute_result"
    }
   ],
   "source": [
    "cpts[\"b\"].values"
   ]
  },
  {
   "cell_type": "code",
   "execution_count": 21,
   "metadata": {},
   "outputs": [
    {
     "data": {
      "text/plain": [
       "array([[0.01830132, 0.02098923, 0.01828086, 0.0202848 ],\n",
       "       [0.98169868, 0.97901077, 0.98171914, 0.9797152 ]])"
      ]
     },
     "execution_count": 21,
     "metadata": {},
     "output_type": "execute_result"
    }
   ],
   "source": [
    "cpts[\"c\"].values\n"
   ]
  }
 ],
 "metadata": {
  "kernelspec": {
   "display_name": "hydipy-agrum",
   "language": "python",
   "name": "python3"
  },
  "language_info": {
   "codemirror_mode": {
    "name": "ipython",
    "version": 3
   },
   "file_extension": ".py",
   "mimetype": "text/x-python",
   "name": "python",
   "nbconvert_exporter": "python",
   "pygments_lexer": "ipython3",
   "version": "3.9.16"
  },
  "orig_nbformat": 4,
  "vscode": {
   "interpreter": {
    "hash": "285d41343ce9cda7d5e97c909156023cc6fd7d5fe13631b53093ed3a59ce995f"
   }
  }
 },
 "nbformat": 4,
 "nbformat_minor": 2
}
