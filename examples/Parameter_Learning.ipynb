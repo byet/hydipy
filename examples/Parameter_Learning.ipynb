{
 "cells": [
  {
   "cell_type": "code",
   "execution_count": 9,
   "metadata": {},
   "outputs": [],
   "source": [
    "from hydipy.Discrete import DiscreteNode\n",
    "from hydipy.DynamicDiscretization import Hybrid_BN, DynamicDiscretization\n",
    "from hydipy.ParameterLearning import CPTLearner\n",
    "import pandas as pd\n",
    "import numpy as np"
   ]
  },
  {
   "attachments": {},
   "cell_type": "markdown",
   "metadata": {},
   "source": [
    "# MLE Learning\n",
    "\n",
    "hydipy currently supports learning of discrete nodes only. \n",
    "\n",
    "## Data"
   ]
  },
  {
   "cell_type": "code",
   "execution_count": 2,
   "metadata": {},
   "outputs": [
    {
     "data": {
      "text/html": [
       "<div>\n",
       "<style scoped>\n",
       "    .dataframe tbody tr th:only-of-type {\n",
       "        vertical-align: middle;\n",
       "    }\n",
       "\n",
       "    .dataframe tbody tr th {\n",
       "        vertical-align: top;\n",
       "    }\n",
       "\n",
       "    .dataframe thead th {\n",
       "        text-align: right;\n",
       "    }\n",
       "</style>\n",
       "<table border=\"1\" class=\"dataframe\">\n",
       "  <thead>\n",
       "    <tr style=\"text-align: right;\">\n",
       "      <th></th>\n",
       "      <th>a</th>\n",
       "      <th>b</th>\n",
       "      <th>c</th>\n",
       "    </tr>\n",
       "  </thead>\n",
       "  <tbody>\n",
       "    <tr>\n",
       "      <th>0</th>\n",
       "      <td>a1</td>\n",
       "      <td>b1</td>\n",
       "      <td>c2</td>\n",
       "    </tr>\n",
       "    <tr>\n",
       "      <th>1</th>\n",
       "      <td>a2</td>\n",
       "      <td>b1</td>\n",
       "      <td>c2</td>\n",
       "    </tr>\n",
       "    <tr>\n",
       "      <th>2</th>\n",
       "      <td>a1</td>\n",
       "      <td>b2</td>\n",
       "      <td>c1</td>\n",
       "    </tr>\n",
       "    <tr>\n",
       "      <th>3</th>\n",
       "      <td>a1</td>\n",
       "      <td>b2</td>\n",
       "      <td>c1</td>\n",
       "    </tr>\n",
       "    <tr>\n",
       "      <th>4</th>\n",
       "      <td>a1</td>\n",
       "      <td>b1</td>\n",
       "      <td>c2</td>\n",
       "    </tr>\n",
       "  </tbody>\n",
       "</table>\n",
       "</div>"
      ],
      "text/plain": [
       "    a   b   c\n",
       "0  a1  b1  c2\n",
       "1  a2  b1  c2\n",
       "2  a1  b2  c1\n",
       "3  a1  b2  c1\n",
       "4  a1  b1  c2"
      ]
     },
     "execution_count": 2,
     "metadata": {},
     "output_type": "execute_result"
    }
   ],
   "source": [
    "train_data = pd.DataFrame(\n",
    "    {\"a\": [\"a1\", \"a2\", \"a1\",\"a1\",\"a1\"], \"b\": [\"b1\", \"b1\", \"b2\",\"b2\",\"b1\"], \"c\": [\"c2\", \"c2\", \"c1\",\"c1\",\"c2\"]},\n",
    ")\n",
    "train_data.head()"
   ]
  },
  {
   "attachments": {},
   "cell_type": "markdown",
   "metadata": {},
   "source": [
    "# BN"
   ]
  },
  {
   "cell_type": "code",
   "execution_count": 16,
   "metadata": {},
   "outputs": [],
   "source": [
    "a = DiscreteNode(id=\"a\", values=[[0.5], [0.5]], parents=[], states=[\"a1\", \"a2\"])\n",
    "b = DiscreteNode(id=\"b\", values=[[0.5], [0.5]], parents=[], states=[\"b1\", \"b2\"])\n",
    "c = DiscreteNode(\n",
    "    id=\"c\",\n",
    "    values=[[0.5, 0.5, 0.5, 0.5], [0.5, 0.5, 0.5, 0.5]],\n",
    "    parents=[\"a\", \"b\"],\n",
    "    states=[\"c1\", \"c2\"],\n",
    ")\n",
    "model = Hybrid_BN([a, b, c])"
   ]
  },
  {
   "attachments": {},
   "cell_type": "markdown",
   "metadata": {},
   "source": [
    "## MLE Learner"
   ]
  },
  {
   "cell_type": "code",
   "execution_count": 17,
   "metadata": {},
   "outputs": [
    {
     "data": {
      "text/plain": [
       "{'a': <hydipy.Discrete.DiscreteNode at 0x7fa362f5ed30>,\n",
       " 'b': <hydipy.Discrete.DiscreteNode at 0x7fa362f5efa0>,\n",
       " 'c': <hydipy.Discrete.DiscreteNode at 0x7fa36b0bfd00>}"
      ]
     },
     "execution_count": 17,
     "metadata": {},
     "output_type": "execute_result"
    }
   ],
   "source": [
    "learner = CPTLearner(model, train_data, correction=0.05)\n",
    "new_cpts = learner.mle()\n",
    "new_cpts"
   ]
  },
  {
   "cell_type": "code",
   "execution_count": 18,
   "metadata": {},
   "outputs": [],
   "source": [
    "new_bn = Hybrid_BN(new_cpts.values())"
   ]
  },
  {
   "cell_type": "code",
   "execution_count": 19,
   "metadata": {},
   "outputs": [
    {
     "name": "stdout",
     "output_type": "stream",
     "text": [
      "***** Variable: a ******\n",
      "\n",
      "\n",
      "  a                |\n",
      "a1       |a2       |\n",
      "---------|---------|\n",
      " 0.8730  | 0.1270  |\n",
      "\n",
      "***** Variable: b ******\n",
      "\n",
      "\n",
      "  b                |\n",
      "b1       |b2       |\n",
      "---------|---------|\n",
      " 0.0457  | 0.9543  |\n",
      "\n",
      "***** Variable: c ******\n",
      "\n",
      "\n",
      "  c                |\n",
      "c1       |c2       |\n",
      "---------|---------|\n",
      " 1.0000  | 0.0000  |\n",
      "\n"
     ]
    },
    {
     "name": "stderr",
     "output_type": "stream",
     "text": [
      "/home/byet/Documents/dd/hydipy/DynamicDiscretization.py:134: UserWarning: No Continuous or Mixture nodes available in this model.\n",
      "  warnings.warn(\"No Continuous or Mixture nodes available in this model.\")\n"
     ]
    },
    {
     "data": {
      "text/plain": [
       "<pyAgrum.pyAgrum.LazyPropagation; proxy of <Swig Object of type 'gum::LazyPropagation< double > *' at 0x7fa362fd4cf0> >"
      ]
     },
     "execution_count": 19,
     "metadata": {},
     "output_type": "execute_result"
    },
    {
     "data": {
      "image/png": "[encoded data removed]",
      "text/plain": [
       "<Figure size 640x480 with 1 Axes>"
      ]
     },
     "metadata": {},
     "output_type": "display_data"
    }
   ],
   "source": [
    "dd = DynamicDiscretization(new_bn)\n",
    "\n",
    "dd.query(['a','b','c'],{'c':'c1'},  show_stats=True, show_figures=True)"
   ]
  }
 ],
 "metadata": {
  "kernelspec": {
   "display_name": "hydipy-agrum",
   "language": "python",
   "name": "python3"
  },
  "language_info": {
   "codemirror_mode": {
    "name": "ipython",
    "version": 3
   },
   "file_extension": ".py",
   "mimetype": "text/x-python",
   "name": "python",
   "nbconvert_exporter": "python",
   "pygments_lexer": "ipython3",
   "version": "3.9.16"
  },
  "orig_nbformat": 4,
  "vscode": {
   "interpreter": {
    "hash": "285d41343ce9cda7d5e97c909156023cc6fd7d5fe13631b53093ed3a59ce995f"
   }
  }
 },
 "nbformat": 4,
 "nbformat_minor": 2
}
